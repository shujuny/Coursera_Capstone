{
 "cells": [
  {
   "cell_type": "markdown",
   "metadata": {},
   "source": [
    "## Coursera Capstone Project"
   ]
  },
  {
   "cell_type": "markdown",
   "metadata": {},
   "source": [
    "### The Battle of Neighbourhood"
   ]
  },
  {
   "cell_type": "markdown",
   "metadata": {},
   "source": [
    "#### Project Background"
   ]
  },
  {
   "cell_type": "markdown",
   "metadata": {},
   "source": [
    "XYZ Company want to open a new restaurant in New York. New York as a diverse and multicultural city, it provides lot of business oppourtunities and business friendly environment. It has attracted many different players into the market. \n",
    "This also means that the restaurant market is highly competitive here. Now the company wants to do an analysis to decide the best area to open de new restaurant."
   ]
  },
  {
   "cell_type": "markdown",
   "metadata": {},
   "source": [
    "#### Problem Description"
   ]
  },
  {
   "cell_type": "markdown",
   "metadata": {},
   "source": [
    "NYC is famous for its excellent cuisine. It's food culture includes an array of international cuisines influenced by the city's immigrants.\n",
    "\n",
    "- Central and Eastern European immigrants, especially Jewish immigrants - bagels, cheesecake, hot dogs, knishes, and  elicatessens\n",
    "- Italian immigrants - pizza and Italian cuisine\n",
    "- Chinese and other Asians - restaurants, sandwich joints, trattorias, diners, and coffeehouses\n",
    "- Middle Eastern - falafel and kebabs\n",
    "\n",
    "\n",
    "So it is evident that to survive in such competitive market it is very important to startegically plan. Various factors need to be studied in order to decide on the Location such as :\n",
    "\n",
    "- New York Population\n",
    "- New York City Demographics\n",
    "- Are there any Farmers Markets, Wholesale markets etc nearby so that the ingredients can be purchased fresh to maintain quality and cost?\n",
    "- Are there any venues like Gyms, Entertainmnet zones, Parks etc nearby where floating population is high etc\n",
    "- Who are the competitors in that location?\n",
    "- Segmentation of the Borough\n",
    "- Untapped markets\n"
   ]
  },
  {
   "cell_type": "markdown",
   "metadata": {},
   "source": [
    "#### Data Sources"
   ]
  },
  {
   "cell_type": "markdown",
   "metadata": {},
   "source": [
    "- A dataset that contains the 5 boroughs and the neighborhoods that exist in each borough as well as the the latitude and logitude coordinates of each neighborhood.\n",
    "\n",
    "This dataset exists for free on the web. Link to the dataset is : https://geo.nyu.edu/catalog/nyu_2451_34572"
   ]
  },
  {
   "cell_type": "markdown",
   "metadata": {},
   "source": [
    "- DOHMH Farmers Markets and Food Boxes dataset. In this we will be using the data of Farmers Markets.\n",
    "\n",
    "  https://data.cityofnewyork.us/dataset/DOHMH-Farmers-Markets-and-Food-Boxes/8vwk-6iz2\n",
    "\n",
    "  Website-https://www.grownyc.org/greenmarketco/foodbox\n",
    "  GrowNYC's Fresh Food Box Program is a food access initiative that enables under-served communities to purchase fresh,   healthy, and primarily regionally grown produce well below traditional retail prices.\n",
    "\n",
    "  A farmers' market is often defined as a public site used by two or more local or regional producers for the direct sale of farm products to consumers. In addition to fresh fruits and vegetables, markets may sell dairy products, fish, meat, baked goods, and other minimally processed foods."
   ]
  },
  {
   "cell_type": "markdown",
   "metadata": {},
   "source": [
    "* For the below analysis we will get data from wikipedia as given below :\n",
    "\n",
    "  New York Population\n",
    "  https://en.wikipedia.org/wiki/New_York_City\n",
    "   \n",
    "  New York City Demographics\n",
    "  https://en.wikipedia.org/wiki/Economy_of_New_York_City\n",
    "  https://en.wikipedia.org/wiki/Portal:New_York_City\n",
    "   \n",
    "  Cuisine of New York city\n",
    "  https://en.wikipedia.org/wiki/Cuisine_of_New_York_City https://en.wikipedia.org/wiki/List_of_Michelin_starred_restaurants_in_New_York_City"
   ]
  },
  {
   "cell_type": "markdown",
   "metadata": {},
   "source": [
    "- Newyork city geographical coordinates data will be utilized as input for the Foursquare API, that will be leveraged to provision venues information for each neighborhood.We will use the Foursquare API to explore neighborhoods in New York City. "
   ]
  }
 ],
 "metadata": {
  "kernelspec": {
   "display_name": "Python 3",
   "language": "python",
   "name": "python3"
  },
  "language_info": {
   "codemirror_mode": {
    "name": "ipython",
    "version": 3
   },
   "file_extension": ".py",
   "mimetype": "text/x-python",
   "name": "python",
   "nbconvert_exporter": "python",
   "pygments_lexer": "ipython3",
   "version": "3.6.8"
  }
 },
 "nbformat": 4,
 "nbformat_minor": 2
}
